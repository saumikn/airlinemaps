{
 "cells": [
  {
   "cell_type": "code",
   "execution_count": 1,
   "id": "7db99459-d625-4b98-bfae-2d5e5d9fd2a5",
   "metadata": {},
   "outputs": [],
   "source": [
    "import pandas as pd\n",
    "from pyproj import Geod\n",
    "import itertools\n",
    "import json"
   ]
  },
  {
   "cell_type": "code",
   "execution_count": null,
   "id": "13a3811c-7969-43be-bd62-75d30409b55b",
   "metadata": {},
   "outputs": [],
   "source": []
  },
  {
   "cell_type": "code",
   "execution_count": 2,
   "id": "991fb029-ef74-4050-ae5f-6f15065c05d8",
   "metadata": {},
   "outputs": [],
   "source": [
    "# Figures out how to draw a curved line between two points\n",
    "# Makes sure that routes to East Asia/Oceania goes over the pacific\n",
    "# This code is a modified version of https://github.com/kburchfiel/route_maps_builder\n",
    "long_cutoff = 80\n",
    "def get_gcpoints(g, row):\n",
    "    orig_lat, orig_lon = row['lat_A'], row['lon_A']\n",
    "    if orig_lon > long_cutoff:\n",
    "        orig_lon -= 360\n",
    "    dest_lat, dest_lon = row['lat_B'], row['lon_B']\n",
    "    if dest_lon > long_cutoff:\n",
    "        dest_lon -= 360\n",
    "    gc_points = g.npts(orig_lon, orig_lat, dest_lon, dest_lat, 20)\n",
    "    revised_gc_points = [(orig_lat, orig_lon)]\n",
    "    for _lon, _lat in gc_points:\n",
    "        if _lon > long_cutoff:\n",
    "            _lon -= 360\n",
    "        revised_gc_points.append((_lat, _lon))\n",
    "    revised_gc_points.append((dest_lat, dest_lon))\n",
    "    return revised_gc_points\n",
    "\n",
    "    \n",
    "def generate_map(df, map_name):\n",
    "    \n",
    "    g = Geod(ellps=\"WGS84\")\n",
    "    \n",
    "    # Gets a unique list of airports in the data    \n",
    "    airports = pd.concat([df[['A', 'lat_A', 'lon_A']].set_axis(['code', 'lat', 'lon'], axis=1),\n",
    "                          df[['B', 'lat_B', 'lon_B']].set_axis(['code', 'lat', 'lon'], axis=1)\n",
    "                         ]).drop_duplicates('code').reset_index(drop=True)        \n",
    "        \n",
    "    # Creates a json file for all the airports in the dataset\n",
    "    circlejson = {'type': 'FeatureCollection', 'features':[]}\n",
    "    for i in range(len(airports)):\n",
    "        row = airports.loc[i]\n",
    "        lat, lon = row['lat'], row['lon']\n",
    "        if row['lon'] > long_cutoff:\n",
    "            lon -= 360\n",
    "        circlejson['features'].append({\n",
    "            'geometry': {'type': 'Point', 'coordinates': [lon,lat]},\n",
    "            'type': 'Feature',\n",
    "            'id': row['code']\n",
    "        })\n",
    "    with open(f'../data/{map_name}/airports.json', 'w') as f:\n",
    "        print(json.dumps(circlejson, indent=2), file=f)\n",
    "        \n",
    "    # Creates a json file for all the routes in the dataset\n",
    "    linejson = {'type': 'FeatureCollection', 'features':[]}\n",
    "    for i in range(len(df)):\n",
    "        print(f'Line {i+1}/{len(df)}', end='\\r')\n",
    "        row = df.loc[i]\n",
    "        if row['color'] == 'white': continue\n",
    "        locs = [[lon,lat] for (lat,lon) in get_gcpoints(g, row)]\n",
    "        linejson['features'].append({\n",
    "            'geometry': {'type': 'LineString', 'coordinates': locs},\n",
    "            'type': 'Feature',\n",
    "            'id': row['AB'],\n",
    "            'properties': {'style': {'color': row['color']}}\n",
    "        })\n",
    "    with open(f'../data/{map_name}/routes.json', 'w') as f:\n",
    "        print(json.dumps(linejson, indent=2), file=f)"
   ]
  },
  {
   "cell_type": "code",
   "execution_count": 3,
   "id": "d8edd845-8cfb-496c-be8e-f3f1f19cac2f",
   "metadata": {},
   "outputs": [
    {
     "name": "stdout",
     "output_type": "stream",
     "text": [
      "CPU times: user 951 ms, sys: 43.9 ms, total: 995 ms\n",
      "Wall time: 1.13 s\n"
     ]
    }
   ],
   "source": [
    "%%time\n",
    "all_routes = pd.read_csv('../data/all/routes.csv')\n",
    "generate_map(all_routes, 'all')"
   ]
  },
  {
   "cell_type": "code",
   "execution_count": 4,
   "id": "09944d5c-3951-4498-87d0-dec315d2f53f",
   "metadata": {},
   "outputs": [
    {
     "name": "stdout",
     "output_type": "stream",
     "text": [
      "CPU times: user 353 ms, sys: 15.1 ms, total: 368 ms\n",
      "Wall time: 606 ms\n"
     ]
    }
   ],
   "source": [
    "%%time\n",
    "aa_routes = pd.read_csv('../data/american/routes.csv')\n",
    "generate_map(aa_routes, 'american')"
   ]
  },
  {
   "cell_type": "code",
   "execution_count": 5,
   "id": "afb391bc-a49b-4a28-aa82-9feeed5f7444",
   "metadata": {},
   "outputs": [
    {
     "name": "stdout",
     "output_type": "stream",
     "text": [
      "CPU times: user 328 ms, sys: 14.1 ms, total: 343 ms\n",
      "Wall time: 455 ms\n"
     ]
    }
   ],
   "source": [
    "%%time\n",
    "dl_routes = pd.read_csv('../data/delta/routes.csv')\n",
    "generate_map(dl_routes, 'delta')"
   ]
  },
  {
   "cell_type": "code",
   "execution_count": 6,
   "id": "4e6480f6-f444-428b-b2ca-73bc7af4aae2",
   "metadata": {},
   "outputs": [
    {
     "name": "stdout",
     "output_type": "stream",
     "text": [
      "CPU times: user 319 ms, sys: 16.6 ms, total: 336 ms\n",
      "Wall time: 429 ms\n"
     ]
    }
   ],
   "source": [
    "%%time\n",
    "ua_routes = pd.read_csv('../data/united/routes.csv')\n",
    "generate_map(ua_routes, 'united')"
   ]
  },
  {
   "cell_type": "code",
   "execution_count": null,
   "id": "136f9f4e-774d-47c0-bcdf-1f93a8b01b01",
   "metadata": {},
   "outputs": [],
   "source": []
  },
  {
   "cell_type": "code",
   "execution_count": null,
   "id": "df965514-37b9-44fb-9806-71d21a6a2742",
   "metadata": {},
   "outputs": [],
   "source": []
  },
  {
   "cell_type": "code",
   "execution_count": null,
   "id": "5bc9e124-1d63-46c8-8f21-475851814b17",
   "metadata": {},
   "outputs": [],
   "source": []
  }
 ],
 "metadata": {
  "kernelspec": {
   "display_name": "flights",
   "language": "python",
   "name": "flights"
  },
  "language_info": {
   "codemirror_mode": {
    "name": "ipython",
    "version": 3
   },
   "file_extension": ".py",
   "mimetype": "text/x-python",
   "name": "python",
   "nbconvert_exporter": "python",
   "pygments_lexer": "ipython3",
   "version": "3.10.5"
  }
 },
 "nbformat": 4,
 "nbformat_minor": 5
}
