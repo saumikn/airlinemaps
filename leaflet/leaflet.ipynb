{
 "cells": [
  {
   "cell_type": "code",
   "execution_count": 1,
   "id": "7db99459-d625-4b98-bfae-2d5e5d9fd2a5",
   "metadata": {},
   "outputs": [],
   "source": [
    "from ipyleaflet import Map, basemaps, Polyline, CircleMarker, Popup, DivIcon, Marker\n",
    "from ipywidgets import Layout, HTML\n",
    "\n",
    "import pandas as pd\n",
    "from pyproj import Geod\n",
    "import itertools\n",
    "import json"
   ]
  },
  {
   "cell_type": "code",
   "execution_count": null,
   "id": "13a3811c-7969-43be-bd62-75d30409b55b",
   "metadata": {},
   "outputs": [],
   "source": []
  },
  {
   "cell_type": "code",
   "execution_count": 2,
   "id": "991fb029-ef74-4050-ae5f-6f15065c05d8",
   "metadata": {},
   "outputs": [],
   "source": [
    "# Figures out how to draw a curved line between two points\n",
    "# Makes sure that routes to East Asia/Oceania goes over the pacific\n",
    "\n",
    "long_cutoff = 80\n",
    "\n",
    "def get_gcpoints(g, row):\n",
    "    orig_lat, orig_lon = row['lat_A'], row['lon_A']\n",
    "    if orig_lon > long_cutoff:\n",
    "        orig_lon -= 360\n",
    "    dest_lat, dest_lon = row['lat_B'], row['lon_B']\n",
    "    if dest_lon > long_cutoff:\n",
    "        dest_lon -= 360\n",
    "    gc_points = g.npts(orig_lon, orig_lat, dest_lon, dest_lat, 20)\n",
    "    revised_gc_points = [(orig_lat, orig_lon)]\n",
    "    for _lon, _lat in gc_points:\n",
    "        if _lon > long_cutoff:\n",
    "            _lon -= 360\n",
    "        revised_gc_points.append((_lat, _lon))\n",
    "    revised_gc_points.append((dest_lat, dest_lon))\n",
    "    return revised_gc_points\n",
    "\n",
    "    \n",
    "def generate_map(df, map_name):\n",
    "    \n",
    "    g = Geod(ellps=\"WGS84\")\n",
    "    # m = folium.Map(location=[38,-97], zoom_start=5, tiles=\"CartoDB dark_matter\")\n",
    "    m = Map(basemap=basemaps.CartoDB.DarkMatter, center=[38,-96], zoom=5, layout=Layout(width='100%', height='800px'))\n",
    "    \n",
    "    m.filtered = False\n",
    "    \n",
    "    # df = df.sample(n=20, random_state=0).reset_index()    \n",
    "    \n",
    "    # Gets a unique list of airports in the data    \n",
    "    airports = pd.concat([df[['A', 'lat_A', 'lon_A']].set_axis(['code', 'lat', 'lon'], axis=1),\n",
    "                          df[['B', 'lat_B', 'lon_B']].set_axis(['code', 'lat', 'lon'], axis=1)\n",
    "                         ]).drop_duplicates('code').reset_index(drop=True)\n",
    "\n",
    "    \n",
    "    lines, clearlines, halflines = {}, {}, {}\n",
    "    hidelines = {}\n",
    "    for i in range(len(df)):\n",
    "        print(f'Line {i+1}/{len(df)}', end='\\r')\n",
    "        row = df.loc[i]\n",
    "        if row['color'] == 'white': continue\n",
    "        revised_gc_points = get_gcpoints(g, row)\n",
    "                \n",
    "        line = Polyline(locations=revised_gc_points, color=row['color'], weight=1, fill=False)\n",
    "        lines[row['AB']] = line\n",
    "        m.add_layer(line)\n",
    "\n",
    "        clearline = Polyline(locations=revised_gc_points, color=row['color'], weight=10, opacity=0, fill=False)\n",
    "        clearline.popup = HTML(row['AB'])\n",
    "        clearlines[row['AB']] = clearline\n",
    "        m.add_layer(clearline)\n",
    "        \n",
    "        hideline = Polyline(locations=revised_gc_points, color='black', weight=1, fill=False)\n",
    "        hidelines[row['AB']] = hideline\n",
    "    print()\n",
    "\n",
    "    # Used to make sure that the area around hubs is dominated by the color of the hub, instead of getting covered by other colors\n",
    "    for i in range(len(df)):\n",
    "        print(f'Halfline {i+1}/{len(df)}', end='\\r')\n",
    "        row = df.loc[i]\n",
    "        if row['color'] == 'white': continue\n",
    "        revised_gc_points = get_gcpoints(g, row)[:5]\n",
    "        \n",
    "        halfline = Polyline(locations=revised_gc_points, color = row['color'], weight=1, fill=False)\n",
    "        halflines[row['AB']] = halfline\n",
    "        m.add_layer(halfline)\n",
    "    print()  \n",
    "    \n",
    "    def handle_mouseover(**kwargs):\n",
    "        if m.filtered: return\n",
    "        \n",
    "        match = airports.set_index(['lat','lon']).loc[tuple(kwargs['coordinates'])]\n",
    "        if len(match) != 1:\n",
    "            return\n",
    "        match = match[0]\n",
    "        \n",
    "        nonstops = [k.split('_') for k,v in lines.items() if match in k]\n",
    "        nonstops = set(itertools.chain(*nonstops))\n",
    "\n",
    "        new_layers = [m.layers[0]]\n",
    "        new_layers += [v for k,v in lines.items() if match in k]\n",
    "        new_layers += [v for k,v in markers.items() if k in nonstops]\n",
    "        new_layers += [v for k,v in circles.items() if k in nonstops]\n",
    "        \n",
    "        m.layers = new_layers\n",
    "        m.filtered = True\n",
    "        \n",
    "        \n",
    "    def handle_mouseout(**kwargs):\n",
    "        if not m.filtered: return\n",
    "        m.layers = m.old_layers\n",
    "        m.filtered = False\n",
    "\n",
    "    # Draws markers over each airport\n",
    "    circles, markers = {}, {}\n",
    "    for i in range(len(airports)):\n",
    "        print(f'Airport {i+1}/{len(airports)}', end='\\r')\n",
    "        row = airports.loc[i]\n",
    "        \n",
    "        lat, lon = row['lat'], row['lon']\n",
    "        if row['lon'] > long_cutoff:\n",
    "            lon -= 360\n",
    "        \n",
    "        circle = CircleMarker(location=[lat,lon], radius=4, color='white', fill_opacity=1)\n",
    "        circles[row['code']] = circle\n",
    "        circle.on_mouseover(handle_mouseover)\n",
    "        circle.on_mouseout(handle_mouseout)\n",
    "        \n",
    "        icon = DivIcon(icon_anchor=(0,22), icon_size=(0,0), html=f\"<div><p style='color:white'><b>{row['code']}</b></p></div>\")\n",
    "        marker = Marker(location=[lat, lon], icon=icon, draggable=False)\n",
    "        markers[row['code']] = marker\n",
    "        \n",
    "        \n",
    "        \n",
    "        # circle.on_mouseover(handle_click)\n",
    "        m.add_layer(circle)\n",
    "        m.add_layer(marker)\n",
    "    print()\n",
    "        \n",
    "    m.old_layers = m.layers\n",
    "    \n",
    "    m.save(f'python/{map_name}')\n",
    "    \n",
    "    circlejson = {'type': 'FeatureCollection', 'features':[]}\n",
    "    for k,v in circles.items():\n",
    "        loc = list(reversed(v.location))\n",
    "        circlejson['features'].append({\n",
    "            'geometry': {'type': 'Point', 'coordinates': loc},\n",
    "            'type': 'Feature',\n",
    "            'id': k\n",
    "        })\n",
    "        \n",
    "    linejson = {'type': 'FeatureCollection', 'features':[]}\n",
    "    for k,v in lines.items():\n",
    "        locs = [[lon,lat] for (lat,lon) in v.locations]\n",
    "        linejson['features'].append({\n",
    "            'geometry': {'type': 'LineString', 'coordinates': locs},\n",
    "            'type': 'Feature',\n",
    "            'id': k,\n",
    "            'properties': {'style': {'color': v.color}}\n",
    "        })\n",
    "    \n",
    "    with open(f'{map_name}.js', 'w') as f:\n",
    "        print(f'var airports = {json.dumps(circlejson, indent=2)};\\n', file=f)\n",
    "        print(f'var routes = {json.dumps(linejson, indent=2)};', file=f)\n",
    "        \n",
    "    return m"
   ]
  },
  {
   "cell_type": "code",
   "execution_count": 3,
   "id": "d8edd845-8cfb-496c-be8e-f3f1f19cac2f",
   "metadata": {},
   "outputs": [
    {
     "name": "stdout",
     "output_type": "stream",
     "text": [
      "Line 2063/2063\n",
      "Halfline 2063/2063\n",
      "Airport 315/315\n",
      "CPU times: user 2min 17s, sys: 7.68 s, total: 2min 25s\n",
      "Wall time: 2min 25s\n"
     ]
    }
   ],
   "source": [
    "%%time\n",
    "all_routes = pd.read_csv('data/all.csv')\n",
    "all_map = generate_map(all_routes, 'all')\n",
    "# all_map"
   ]
  },
  {
   "cell_type": "code",
   "execution_count": 4,
   "id": "09944d5c-3951-4498-87d0-dec315d2f53f",
   "metadata": {},
   "outputs": [
    {
     "name": "stdout",
     "output_type": "stream",
     "text": [
      "Line 761/761\n",
      "Halfline 761/761\n",
      "Airport 231/231\n",
      "CPU times: user 36.8 s, sys: 2.7 s, total: 39.5 s\n",
      "Wall time: 41.2 s\n"
     ]
    }
   ],
   "source": [
    "%%time\n",
    "aa_routes = pd.read_csv('data/american.csv')\n",
    "aa_map = generate_map(aa_routes, 'american')\n",
    "# aa_map"
   ]
  },
  {
   "cell_type": "code",
   "execution_count": 5,
   "id": "afb391bc-a49b-4a28-aa82-9feeed5f7444",
   "metadata": {},
   "outputs": [
    {
     "name": "stdout",
     "output_type": "stream",
     "text": [
      "Line 672/672\n",
      "Halfline 672/672\n",
      "Airport 216/216\n",
      "CPU times: user 32.4 s, sys: 2.39 s, total: 34.8 s\n",
      "Wall time: 35.8 s\n"
     ]
    }
   ],
   "source": [
    "%%time\n",
    "dl_routes = pd.read_csv('data/delta.csv')\n",
    "dl_map = generate_map(dl_routes, 'delta')\n",
    "# dl_map"
   ]
  },
  {
   "cell_type": "code",
   "execution_count": 6,
   "id": "4e6480f6-f444-428b-b2ca-73bc7af4aae2",
   "metadata": {},
   "outputs": [
    {
     "name": "stdout",
     "output_type": "stream",
     "text": [
      "Line 630/630\n",
      "Halfline 630/630\n",
      "Airport 230/230\n",
      "CPU times: user 33.1 s, sys: 2.54 s, total: 35.7 s\n",
      "Wall time: 37.6 s\n"
     ]
    }
   ],
   "source": [
    "%%time\n",
    "ua_routes = pd.read_csv('data/united.csv')\n",
    "ua_map = generate_map(ua_routes, 'united')\n",
    "# ua_map"
   ]
  },
  {
   "cell_type": "code",
   "execution_count": null,
   "id": "136f9f4e-774d-47c0-bcdf-1f93a8b01b01",
   "metadata": {},
   "outputs": [],
   "source": []
  },
  {
   "cell_type": "code",
   "execution_count": null,
   "id": "df965514-37b9-44fb-9806-71d21a6a2742",
   "metadata": {},
   "outputs": [],
   "source": []
  },
  {
   "cell_type": "code",
   "execution_count": null,
   "id": "5bc9e124-1d63-46c8-8f21-475851814b17",
   "metadata": {},
   "outputs": [],
   "source": []
  }
 ],
 "metadata": {
  "kernelspec": {
   "display_name": "base2",
   "language": "python",
   "name": "base2"
  },
  "language_info": {
   "codemirror_mode": {
    "name": "ipython",
    "version": 3
   },
   "file_extension": ".py",
   "mimetype": "text/x-python",
   "name": "python",
   "nbconvert_exporter": "python",
   "pygments_lexer": "ipython3",
   "version": "3.9.13"
  }
 },
 "nbformat": 4,
 "nbformat_minor": 5
}
